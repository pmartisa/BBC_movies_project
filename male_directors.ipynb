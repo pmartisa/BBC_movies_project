{
 "cells": [
  {
   "cell_type": "code",
   "execution_count": 2,
   "id": "d4abd3ca",
   "metadata": {},
   "outputs": [],
   "source": [
    "from bs4 import BeautifulSoup\n",
    "import requests\n",
    "import re\n",
    "import numpy as np\n",
    "import pandas as pd\n",
    "from time import sleep\n",
    "from random import randint"
   ]
  },
  {
   "cell_type": "code",
   "execution_count": 4,
   "id": "6c8a669e",
   "metadata": {
    "scrolled": true
   },
   "outputs": [],
   "source": [
    "other_directors = []\n",
    "pages = np.arange(1, 5, 1)\n",
    "for page in pages:\n",
    "    page = requests.get(\"https://www.imdb.com/list/ls006541285/?sort=list_order,asc&mode=detail&page=\" + str(page))\n",
    "    sleep(randint(1,2))\n",
    "    soup_doc = BeautifulSoup(page.text, 'html.parser')\n",
    "    blocks = soup_doc.find_all(class_='lister-item-content')\n",
    "    for block in blocks:\n",
    "        mylist = []\n",
    "        names = block.find_all('a')[0]\n",
    "        mylist.append(names.text.strip())\n",
    "        summaries = block.find_all('p')[1]\n",
    "        word_counts = 0\n",
    "        male_gender = re.findall(r\"(\\bhe\\b)|(\\bhis\\b)\", str(summaries), re.IGNORECASE)\n",
    "        female_gender = re.findall(r\"(\\bshe\\b)|(\\bher\\b)\", str(summaries), re.IGNORECASE)\n",
    "        he_times = word_counts + len(male_gender)\n",
    "        she_times = word_counts + len(female_gender)\n",
    "        if he_times:\n",
    "            gender = 'M'\n",
    "        elif she_times:\n",
    "            gender = 'F'\n",
    "        else:\n",
    "            gender = 'unknown'\n",
    "            mylist.append(gender)\n",
    "       #print(mylist)\n",
    "        other_directors.append(mylist)"
   ]
  },
  {
   "cell_type": "code",
   "execution_count": 5,
   "id": "e9460eac",
   "metadata": {
    "scrolled": true
   },
   "outputs": [
    {
     "data": {
      "text/plain": [
       "338"
      ]
     },
     "execution_count": 5,
     "metadata": {},
     "output_type": "execute_result"
    }
   ],
   "source": [
    "len(other_directors)"
   ]
  },
  {
   "cell_type": "code",
   "execution_count": 132,
   "id": "e4348c47",
   "metadata": {
    "scrolled": false
   },
   "outputs": [
    {
     "data": {
      "text/plain": [
       "(338, 2)"
      ]
     },
     "execution_count": 132,
     "metadata": {},
     "output_type": "execute_result"
    }
   ],
   "source": [
    "df = pd.DataFrame.from_records(other_directors, columns= ['director', 'director_gender'])\n",
    "df.shape"
   ]
  },
  {
   "cell_type": "code",
   "execution_count": 134,
   "id": "8c9107c3",
   "metadata": {},
   "outputs": [
    {
     "data": {
      "text/html": [
       "<div>\n",
       "<style scoped>\n",
       "    .dataframe tbody tr th:only-of-type {\n",
       "        vertical-align: middle;\n",
       "    }\n",
       "\n",
       "    .dataframe tbody tr th {\n",
       "        vertical-align: top;\n",
       "    }\n",
       "\n",
       "    .dataframe thead th {\n",
       "        text-align: right;\n",
       "    }\n",
       "</style>\n",
       "<table border=\"1\" class=\"dataframe\">\n",
       "  <thead>\n",
       "    <tr style=\"text-align: right;\">\n",
       "      <th></th>\n",
       "      <th>director</th>\n",
       "      <th>director_gender</th>\n",
       "    </tr>\n",
       "  </thead>\n",
       "  <tbody>\n",
       "    <tr>\n",
       "      <th>0</th>\n",
       "      <td>Clint Eastwood</td>\n",
       "      <td>M</td>\n",
       "    </tr>\n",
       "    <tr>\n",
       "      <th>1</th>\n",
       "      <td>Martin Scorsese</td>\n",
       "      <td>M</td>\n",
       "    </tr>\n",
       "    <tr>\n",
       "      <th>2</th>\n",
       "      <td>Paul Thomas Anderson</td>\n",
       "      <td>M</td>\n",
       "    </tr>\n",
       "    <tr>\n",
       "      <th>3</th>\n",
       "      <td>David Fincher</td>\n",
       "      <td>M</td>\n",
       "    </tr>\n",
       "    <tr>\n",
       "      <th>4</th>\n",
       "      <td>Joel and Ethan Coen</td>\n",
       "      <td>M</td>\n",
       "    </tr>\n",
       "  </tbody>\n",
       "</table>\n",
       "</div>"
      ],
      "text/plain": [
       "               director director_gender\n",
       "0        Clint Eastwood               M\n",
       "1       Martin Scorsese               M\n",
       "2  Paul Thomas Anderson               M\n",
       "3         David Fincher               M\n",
       "4   Joel and Ethan Coen               M"
      ]
     },
     "execution_count": 134,
     "metadata": {},
     "output_type": "execute_result"
    }
   ],
   "source": [
    "df = df.replace({'director' : { 'Joel Coen' : 'Joel and Ethan Coen', 'Alejandro G. Iñárritu' : 'Alejandro González Iñárritu', 'Ming-liang Tsai' : 'Tsai Ming-liang', 'Hsiao-Hsien Hou': 'Hou Hsiao-hsien', 'Kar-Wai Wong' : 'Wong Kar-wai'}})\n",
    "df.head()\n",
    "#df[\"director\"].replace({\"Joel Coen\", \"Joel and Ethan Coen\"}\n",
    "# df[\"director\"].replace(\"Alejandro G. Iñárritu\", \"Alejandro González Iñárritu\")\n",
    "# df[\"director\"].replace(\"Ming-liang Tsai\", \"Tsai Ming-liang\")\n",
    "# df[\"director\"].replace(\"Hsiao-Hsien Hou\", \"Hou Hsiao-hsien\")\n",
    "# df[\"director\"].replace(\"Kar-Wai Wong\", \"Wong Kar-wai\")\n",
    "#Park Chan-Wook?\n"
   ]
  },
  {
   "cell_type": "code",
   "execution_count": 135,
   "id": "3038b355",
   "metadata": {},
   "outputs": [
    {
     "data": {
      "text/plain": [
       "(338, 2)"
      ]
     },
     "execution_count": 135,
     "metadata": {},
     "output_type": "execute_result"
    }
   ],
   "source": [
    "df.shape"
   ]
  },
  {
   "cell_type": "code",
   "execution_count": 136,
   "id": "78da54bd",
   "metadata": {},
   "outputs": [],
   "source": [
    "df.to_csv('Male_directors.backup.csv', index=False)"
   ]
  },
  {
   "cell_type": "code",
   "execution_count": null,
   "id": "b3d559d2",
   "metadata": {},
   "outputs": [],
   "source": []
  }
 ],
 "metadata": {
  "kernelspec": {
   "display_name": "Python 3 (ipykernel)",
   "language": "python",
   "name": "python3"
  },
  "language_info": {
   "codemirror_mode": {
    "name": "ipython",
    "version": 3
   },
   "file_extension": ".py",
   "mimetype": "text/x-python",
   "name": "python",
   "nbconvert_exporter": "python",
   "pygments_lexer": "ipython3",
   "version": "3.10.0"
  }
 },
 "nbformat": 4,
 "nbformat_minor": 5
}
