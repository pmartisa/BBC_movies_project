{
 "cells": [
  {
   "cell_type": "code",
   "execution_count": 23,
   "id": "87161058",
   "metadata": {},
   "outputs": [],
   "source": [
    "#All of the necessary imports\n",
    "import pandas as pd\n",
    "\n",
    "import time\n",
    "\n",
    "from selenium import webdriver\n",
    "from selenium.webdriver.common.by import By\n",
    "from selenium.webdriver.support.ui import WebDriverWait\n",
    "from selenium.webdriver.support import expected_conditions as EC\n",
    "from selenium.webdriver.support.ui import Select\n",
    "\n",
    "from webdriver_manager.chrome import ChromeDriverManager"
   ]
  },
  {
   "cell_type": "code",
   "execution_count": 24,
   "id": "f7b29475",
   "metadata": {},
   "outputs": [
    {
     "name": "stderr",
     "output_type": "stream",
     "text": [
      "\n",
      "\n",
      "====== WebDriver manager ======\n",
      "Current google-chrome version is 96.0.4664\n",
      "Get LATEST chromedriver version for 96.0.4664 google-chrome\n",
      "Driver [/Users/pmartisa/.wdm/drivers/chromedriver/mac64/96.0.4664.45/chromedriver] found in cache\n",
      "/var/folders/mm/7r7tnzn90cxcfg9kflk_94qc0000gn/T/ipykernel_7603/736860690.py:2: DeprecationWarning: executable_path has been deprecated, please pass in a Service object\n",
      "  driver = webdriver.Chrome(ChromeDriverManager().install())\n"
     ]
    }
   ],
   "source": [
    "# Launch a new Chrome, install the appropriate ChromeDriver if necessary\n",
    "driver = webdriver.Chrome(ChromeDriverManager().install())\n",
    "\n",
    "driver.get(\"https://secure.utah.gov/llv/search/index.html\")"
   ]
  },
  {
   "cell_type": "code",
   "execution_count": 25,
   "id": "1baa4586",
   "metadata": {
    "scrolled": true
   },
   "outputs": [],
   "source": [
    "driver.find_element(By.ID, \"item115\").click()"
   ]
  },
  {
   "cell_type": "code",
   "execution_count": 26,
   "id": "9c2765a8",
   "metadata": {
    "scrolled": true
   },
   "outputs": [],
   "source": [
    "driver.find_element(By.XPATH, \"/html/body/div[2]/div[2]/div[2]/form/fieldset[3]/p[1]/input[1]\").click()"
   ]
  },
  {
   "cell_type": "code",
   "execution_count": 27,
   "id": "f2cbf273",
   "metadata": {},
   "outputs": [
    {
     "ename": "NoSuchElementException",
     "evalue": "Message: no such element: Unable to locate element: {\"method\":\"css selector\",\"selector\":\".resultsTable\"}\n  (Session info: chrome=96.0.4664.55)\nStacktrace:\n0   chromedriver                        0x0000000106763269 __gxx_personality_v0 + 582729\n1   chromedriver                        0x00000001066eec33 __gxx_personality_v0 + 106003\n2   chromedriver                        0x00000001062abe28 chromedriver + 171560\n3   chromedriver                        0x00000001062e13d2 chromedriver + 390098\n4   chromedriver                        0x00000001062e1591 chromedriver + 390545\n5   chromedriver                        0x00000001063136b4 chromedriver + 595636\n6   chromedriver                        0x00000001062fe9fd chromedriver + 510461\n7   chromedriver                        0x0000000106311462 chromedriver + 586850\n8   chromedriver                        0x00000001062fec23 chromedriver + 511011\n9   chromedriver                        0x00000001062d475e chromedriver + 337758\n10  chromedriver                        0x00000001062d5a95 chromedriver + 342677\n11  chromedriver                        0x000000010671f8ab __gxx_personality_v0 + 305803\n12  chromedriver                        0x0000000106736863 __gxx_personality_v0 + 399939\n13  chromedriver                        0x000000010673bc7f __gxx_personality_v0 + 421471\n14  chromedriver                        0x0000000106737bba __gxx_personality_v0 + 404890\n15  chromedriver                        0x0000000106713e51 __gxx_personality_v0 + 258097\n16  chromedriver                        0x0000000106753158 __gxx_personality_v0 + 516920\n17  chromedriver                        0x00000001067532e1 __gxx_personality_v0 + 517313\n18  chromedriver                        0x000000010676a6f8 __gxx_personality_v0 + 612568\n19  libsystem_pthread.dylib             0x00007fff203a68fc _pthread_start + 224\n20  libsystem_pthread.dylib             0x00007fff203a2443 thread_start + 15\n",
     "output_type": "error",
     "traceback": [
      "\u001b[0;31m---------------------------------------------------------------------------\u001b[0m",
      "\u001b[0;31mNoSuchElementException\u001b[0m                    Traceback (most recent call last)",
      "\u001b[0;32m/var/folders/mm/7r7tnzn90cxcfg9kflk_94qc0000gn/T/ipykernel_7603/2457470801.py\u001b[0m in \u001b[0;36m<module>\u001b[0;34m\u001b[0m\n\u001b[0;32m----> 1\u001b[0;31m \u001b[0mtable\u001b[0m \u001b[0;34m=\u001b[0m \u001b[0mdriver\u001b[0m\u001b[0;34m.\u001b[0m\u001b[0mfind_element\u001b[0m\u001b[0;34m(\u001b[0m\u001b[0mBy\u001b[0m\u001b[0;34m.\u001b[0m\u001b[0mCLASS_NAME\u001b[0m\u001b[0;34m,\u001b[0m \u001b[0;34m\"resultsTable\"\u001b[0m\u001b[0;34m)\u001b[0m\u001b[0;34m\u001b[0m\u001b[0;34m\u001b[0m\u001b[0m\n\u001b[0m\u001b[1;32m      2\u001b[0m \u001b[0;31m#table.get_attribute('outerHTML')\u001b[0m\u001b[0;34m\u001b[0m\u001b[0;34m\u001b[0m\u001b[0m\n\u001b[1;32m      3\u001b[0m \u001b[0mdf\u001b[0m \u001b[0;34m=\u001b[0m\u001b[0mpd\u001b[0m\u001b[0;34m.\u001b[0m\u001b[0mread_html\u001b[0m\u001b[0;34m(\u001b[0m\u001b[0mtable\u001b[0m\u001b[0;34m.\u001b[0m\u001b[0mget_attribute\u001b[0m\u001b[0;34m(\u001b[0m\u001b[0;34m'outerHTML'\u001b[0m\u001b[0;34m)\u001b[0m\u001b[0;34m)\u001b[0m\u001b[0;34m[\u001b[0m\u001b[0;36m0\u001b[0m\u001b[0;34m]\u001b[0m\u001b[0;34m\u001b[0m\u001b[0;34m\u001b[0m\u001b[0m\n",
      "\u001b[0;32m~/.pyenv/versions/3.10.0/lib/python3.10/site-packages/selenium/webdriver/remote/webdriver.py\u001b[0m in \u001b[0;36mfind_element\u001b[0;34m(self, by, value)\u001b[0m\n\u001b[1;32m   1242\u001b[0m             \u001b[0mvalue\u001b[0m \u001b[0;34m=\u001b[0m \u001b[0;34m'[name=\"%s\"]'\u001b[0m \u001b[0;34m%\u001b[0m \u001b[0mvalue\u001b[0m\u001b[0;34m\u001b[0m\u001b[0;34m\u001b[0m\u001b[0m\n\u001b[1;32m   1243\u001b[0m \u001b[0;34m\u001b[0m\u001b[0m\n\u001b[0;32m-> 1244\u001b[0;31m         return self.execute(Command.FIND_ELEMENT, {\n\u001b[0m\u001b[1;32m   1245\u001b[0m             \u001b[0;34m'using'\u001b[0m\u001b[0;34m:\u001b[0m \u001b[0mby\u001b[0m\u001b[0;34m,\u001b[0m\u001b[0;34m\u001b[0m\u001b[0;34m\u001b[0m\u001b[0m\n\u001b[1;32m   1246\u001b[0m             'value': value})['value']\n",
      "\u001b[0;32m~/.pyenv/versions/3.10.0/lib/python3.10/site-packages/selenium/webdriver/remote/webdriver.py\u001b[0m in \u001b[0;36mexecute\u001b[0;34m(self, driver_command, params)\u001b[0m\n\u001b[1;32m    422\u001b[0m         \u001b[0mresponse\u001b[0m \u001b[0;34m=\u001b[0m \u001b[0mself\u001b[0m\u001b[0;34m.\u001b[0m\u001b[0mcommand_executor\u001b[0m\u001b[0;34m.\u001b[0m\u001b[0mexecute\u001b[0m\u001b[0;34m(\u001b[0m\u001b[0mdriver_command\u001b[0m\u001b[0;34m,\u001b[0m \u001b[0mparams\u001b[0m\u001b[0;34m)\u001b[0m\u001b[0;34m\u001b[0m\u001b[0;34m\u001b[0m\u001b[0m\n\u001b[1;32m    423\u001b[0m         \u001b[0;32mif\u001b[0m \u001b[0mresponse\u001b[0m\u001b[0;34m:\u001b[0m\u001b[0;34m\u001b[0m\u001b[0;34m\u001b[0m\u001b[0m\n\u001b[0;32m--> 424\u001b[0;31m             \u001b[0mself\u001b[0m\u001b[0;34m.\u001b[0m\u001b[0merror_handler\u001b[0m\u001b[0;34m.\u001b[0m\u001b[0mcheck_response\u001b[0m\u001b[0;34m(\u001b[0m\u001b[0mresponse\u001b[0m\u001b[0;34m)\u001b[0m\u001b[0;34m\u001b[0m\u001b[0;34m\u001b[0m\u001b[0m\n\u001b[0m\u001b[1;32m    425\u001b[0m             response['value'] = self._unwrap_value(\n\u001b[1;32m    426\u001b[0m                 response.get('value', None))\n",
      "\u001b[0;32m~/.pyenv/versions/3.10.0/lib/python3.10/site-packages/selenium/webdriver/remote/errorhandler.py\u001b[0m in \u001b[0;36mcheck_response\u001b[0;34m(self, response)\u001b[0m\n\u001b[1;32m    245\u001b[0m                 \u001b[0malert_text\u001b[0m \u001b[0;34m=\u001b[0m \u001b[0mvalue\u001b[0m\u001b[0;34m[\u001b[0m\u001b[0;34m'alert'\u001b[0m\u001b[0;34m]\u001b[0m\u001b[0;34m.\u001b[0m\u001b[0mget\u001b[0m\u001b[0;34m(\u001b[0m\u001b[0;34m'text'\u001b[0m\u001b[0;34m)\u001b[0m\u001b[0;34m\u001b[0m\u001b[0;34m\u001b[0m\u001b[0m\n\u001b[1;32m    246\u001b[0m             \u001b[0;32mraise\u001b[0m \u001b[0mexception_class\u001b[0m\u001b[0;34m(\u001b[0m\u001b[0mmessage\u001b[0m\u001b[0;34m,\u001b[0m \u001b[0mscreen\u001b[0m\u001b[0;34m,\u001b[0m \u001b[0mstacktrace\u001b[0m\u001b[0;34m,\u001b[0m \u001b[0malert_text\u001b[0m\u001b[0;34m)\u001b[0m  \u001b[0;31m# type: ignore[call-arg]  # mypy is not smart enough here\u001b[0m\u001b[0;34m\u001b[0m\u001b[0;34m\u001b[0m\u001b[0m\n\u001b[0;32m--> 247\u001b[0;31m         \u001b[0;32mraise\u001b[0m \u001b[0mexception_class\u001b[0m\u001b[0;34m(\u001b[0m\u001b[0mmessage\u001b[0m\u001b[0;34m,\u001b[0m \u001b[0mscreen\u001b[0m\u001b[0;34m,\u001b[0m \u001b[0mstacktrace\u001b[0m\u001b[0;34m)\u001b[0m\u001b[0;34m\u001b[0m\u001b[0;34m\u001b[0m\u001b[0m\n\u001b[0m\u001b[1;32m    248\u001b[0m \u001b[0;34m\u001b[0m\u001b[0m\n\u001b[1;32m    249\u001b[0m     \u001b[0;32mdef\u001b[0m \u001b[0m_value_or_default\u001b[0m\u001b[0;34m(\u001b[0m\u001b[0mself\u001b[0m\u001b[0;34m,\u001b[0m \u001b[0mobj\u001b[0m\u001b[0;34m:\u001b[0m \u001b[0mMapping\u001b[0m\u001b[0;34m[\u001b[0m\u001b[0m_KT\u001b[0m\u001b[0;34m,\u001b[0m \u001b[0m_VT\u001b[0m\u001b[0;34m]\u001b[0m\u001b[0;34m,\u001b[0m \u001b[0mkey\u001b[0m\u001b[0;34m:\u001b[0m \u001b[0m_KT\u001b[0m\u001b[0;34m,\u001b[0m \u001b[0mdefault\u001b[0m\u001b[0;34m:\u001b[0m \u001b[0m_VT\u001b[0m\u001b[0;34m)\u001b[0m \u001b[0;34m->\u001b[0m \u001b[0m_VT\u001b[0m\u001b[0;34m:\u001b[0m\u001b[0;34m\u001b[0m\u001b[0;34m\u001b[0m\u001b[0m\n",
      "\u001b[0;31mNoSuchElementException\u001b[0m: Message: no such element: Unable to locate element: {\"method\":\"css selector\",\"selector\":\".resultsTable\"}\n  (Session info: chrome=96.0.4664.55)\nStacktrace:\n0   chromedriver                        0x0000000106763269 __gxx_personality_v0 + 582729\n1   chromedriver                        0x00000001066eec33 __gxx_personality_v0 + 106003\n2   chromedriver                        0x00000001062abe28 chromedriver + 171560\n3   chromedriver                        0x00000001062e13d2 chromedriver + 390098\n4   chromedriver                        0x00000001062e1591 chromedriver + 390545\n5   chromedriver                        0x00000001063136b4 chromedriver + 595636\n6   chromedriver                        0x00000001062fe9fd chromedriver + 510461\n7   chromedriver                        0x0000000106311462 chromedriver + 586850\n8   chromedriver                        0x00000001062fec23 chromedriver + 511011\n9   chromedriver                        0x00000001062d475e chromedriver + 337758\n10  chromedriver                        0x00000001062d5a95 chromedriver + 342677\n11  chromedriver                        0x000000010671f8ab __gxx_personality_v0 + 305803\n12  chromedriver                        0x0000000106736863 __gxx_personality_v0 + 399939\n13  chromedriver                        0x000000010673bc7f __gxx_personality_v0 + 421471\n14  chromedriver                        0x0000000106737bba __gxx_personality_v0 + 404890\n15  chromedriver                        0x0000000106713e51 __gxx_personality_v0 + 258097\n16  chromedriver                        0x0000000106753158 __gxx_personality_v0 + 516920\n17  chromedriver                        0x00000001067532e1 __gxx_personality_v0 + 517313\n18  chromedriver                        0x000000010676a6f8 __gxx_personality_v0 + 612568\n19  libsystem_pthread.dylib             0x00007fff203a68fc _pthread_start + 224\n20  libsystem_pthread.dylib             0x00007fff203a2443 thread_start + 15\n"
     ]
    }
   ],
   "source": [
    "table = driver.find_element(By.CLASS_NAME, \"resultsTable\")\n",
    "#table.get_attribute('outerHTML')\n",
    "df =pd.read_html(table.get_attribute('outerHTML'))[0]"
   ]
  },
  {
   "cell_type": "code",
   "execution_count": null,
   "id": "74ea2337",
   "metadata": {},
   "outputs": [],
   "source": [
    "df"
   ]
  },
  {
   "cell_type": "code",
   "execution_count": null,
   "id": "3739afe6",
   "metadata": {
    "scrolled": false
   },
   "outputs": [],
   "source": [
    "# to get the next page, and the same for the next one, and the smae... OR\n",
    "driver.find_element(By.ID, \"pagination-next\").click()"
   ]
  },
  {
   "cell_type": "code",
   "execution_count": null,
   "id": "06047b35",
   "metadata": {},
   "outputs": [],
   "source": [
    "# PARA EVITAR QUE UNA PAGINA REESCRIBA LA OTRA \n",
    "# Y SOLO TENGAS UNA NECESITAS ESTO\n",
    "dataframes = []\n",
    "\n",
    "# Keep doing this.... FOREVER????\n",
    "while True:\n",
    "    # Get a new dataframe\n",
    "    table = driver.find_element(By.CLASS_NAME, \"resultsTable\")\n",
    "    df = pd.read_html(table.get_attribute('outerHTML'))[0]\n",
    "    \n",
    "    # Each time we pull a table off the page,\n",
    "    # add it to our list of dataframes\n",
    "    dataframes.append(df)\n",
    "    \n",
    "    # Try to click the next button\n",
    "    try:\n",
    "        driver.find_element(By.ID, \"pagination-next\").click()\n",
    "    except:\n",
    "        # If it can't find it, exit the while loop\n",
    "        break"
   ]
  },
  {
   "cell_type": "code",
   "execution_count": null,
   "id": "51fa081e",
   "metadata": {},
   "outputs": [],
   "source": [
    "# Now that we're done, combine all of our dataframes\n",
    "df = pd.concat(dataframes, ignore_index=True)\n",
    "df"
   ]
  },
  {
   "cell_type": "code",
   "execution_count": null,
   "id": "d44fe789",
   "metadata": {},
   "outputs": [],
   "source": [
    "# Launch a new Chrome, install the appropriate ChromeDriver if necessary\n",
    "driver = webdriver.Chrome(ChromeDriverManager().install())\n",
    "\n",
    "driver.get(\"https://secure.utah.gov/llv/search/index.html\")"
   ]
  },
  {
   "cell_type": "code",
   "execution_count": null,
   "id": "070187ba",
   "metadata": {},
   "outputs": [],
   "source": [
    "# WE ARE LOOKING FOR THE THREE IDs\n",
    "driver.find_element(By.ID, \"item8\").click()\n",
    "driver.find_element(By.ID, \"item118\").click()\n",
    "driver.find_element(By.ID, \"item268\").click()"
   ]
  },
  {
   "cell_type": "code",
   "execution_count": null,
   "id": "917024a2",
   "metadata": {},
   "outputs": [],
   "source": [
    "driver.find_element(By.XPATH, \"/html/body/div[2]/div[2]/div[2]/form/fieldset[3]/p[1]/input[1]\").click()"
   ]
  },
  {
   "cell_type": "code",
   "execution_count": null,
   "id": "6ffeeaa6",
   "metadata": {},
   "outputs": [],
   "source": [
    "dataframes = []\n",
    "\n",
    "# Keep doing this.... FOREVER????\n",
    "while True:\n",
    "     #time.sleep(1)\n",
    "    print(\"Reading a page\")\n",
    "    # The resultsTable isn't always there immediately\n",
    "    # I told some people to do time.sleep(1) but after\n",
    "    # a lot of pages that extra time adds up\n",
    "    # and it's very boring, alternatively you can\n",
    "    # wait for the table to show up\n",
    "    \n",
    "    # https://selenium-python.readthedocs.io/waits.html\n",
    "    # Wait for resultsTable to appear on the page\n",
    "    # If it takes longer than 3 seconds, just give up\n",
    "    # and give me an error\n",
    "    # might have to up that number if you have unrealiable internet\n",
    "    WebDriverWait(driver, 3).until(\n",
    "        EC.presence_of_element_located((By.CLASS_NAME, \"resultsTable\"))\n",
    "    )\n",
    "    \n",
    "    \n",
    "    \n",
    "    # Get a new dataframe\n",
    "    table = driver.find_element(By.CLASS_NAME, \"resultsTable\")\n",
    "    df = pd.read_html(table.get_attribute('outerHTML'))[0]\n",
    "    \n",
    "    # Each time we pull a table off the page,\n",
    "    # add it to our list of dataframes\n",
    "    dataframes.append(df)\n",
    "    \n",
    "    # Try to click the next button\n",
    "    try:\n",
    "        driver.find_element(By.ID, \"pagination-next\").click()\n",
    "    except:\n",
    "        print(\"Tried to click next, couldn't, we're done\")\n",
    "        # If it can't find it, exit the while loop\n",
    "        break"
   ]
  },
  {
   "cell_type": "code",
   "execution_count": null,
   "id": "f2f6a39d",
   "metadata": {},
   "outputs": [],
   "source": [
    "df = pd.concat(dataframes, ignore_index=True)\n",
    "df"
   ]
  },
  {
   "cell_type": "code",
   "execution_count": null,
   "id": "6aa4e869",
   "metadata": {},
   "outputs": [],
   "source": []
  }
 ],
 "metadata": {
  "kernelspec": {
   "display_name": "Python 3 (ipykernel)",
   "language": "python",
   "name": "python3"
  },
  "language_info": {
   "codemirror_mode": {
    "name": "ipython",
    "version": 3
   },
   "file_extension": ".py",
   "mimetype": "text/x-python",
   "name": "python",
   "nbconvert_exporter": "python",
   "pygments_lexer": "ipython3",
   "version": "3.10.0"
  }
 },
 "nbformat": 4,
 "nbformat_minor": 5
}
