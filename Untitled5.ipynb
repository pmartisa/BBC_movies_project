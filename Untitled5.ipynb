{
 "cells": [
  {
   "cell_type": "code",
   "execution_count": 253,
   "id": "82339a52",
   "metadata": {},
   "outputs": [],
   "source": [
    "import pandas as pd\n",
    "\n",
    "import time\n",
    "\n",
    "from selenium import webdriver\n",
    "from selenium.webdriver.common.by import By\n",
    "from selenium.webdriver.support.ui import WebDriverWait\n",
    "from selenium.webdriver.support import expected_conditions as EC\n",
    "from selenium.webdriver.support.ui import Select\n",
    "\n",
    "from webdriver_manager.chrome import ChromeDriverManager"
   ]
  },
  {
   "cell_type": "code",
   "execution_count": 254,
   "id": "c419693a",
   "metadata": {
    "scrolled": true
   },
   "outputs": [
    {
     "name": "stderr",
     "output_type": "stream",
     "text": [
      "\n",
      "\n",
      "====== WebDriver manager ======\n",
      "Current google-chrome version is 96.0.4664\n",
      "Get LATEST chromedriver version for 96.0.4664 google-chrome\n",
      "Trying to download new driver from https://chromedriver.storage.googleapis.com/96.0.4664.45/chromedriver_mac64.zip\n",
      "Driver has been saved in cache [/Users/pmartisa/.wdm/drivers/chromedriver/mac64/96.0.4664.45]\n",
      "/var/folders/mm/7r7tnzn90cxcfg9kflk_94qc0000gn/T/ipykernel_32036/4073352260.py:1: DeprecationWarning: executable_path has been deprecated, please pass in a Service object\n",
      "  driver = webdriver.Chrome(ChromeDriverManager().install())\n"
     ]
    }
   ],
   "source": [
    "driver = webdriver.Chrome(ChromeDriverManager().install())\n",
    "\n",
    "driver.get(\"https://bechdeltest.com/?page=4\")"
   ]
  },
  {
   "cell_type": "code",
   "execution_count": 287,
   "id": "53afc279",
   "metadata": {},
   "outputs": [
    {
     "ename": "TypeError",
     "evalue": "'WebElement' object is not subscriptable",
     "output_type": "error",
     "traceback": [
      "\u001b[0;31m---------------------------------------------------------------------------\u001b[0m",
      "\u001b[0;31mTypeError\u001b[0m                                 Traceback (most recent call last)",
      "\u001b[0;32m/var/folders/mm/7r7tnzn90cxcfg9kflk_94qc0000gn/T/ipykernel_32036/3301288057.py\u001b[0m in \u001b[0;36m<module>\u001b[0;34m\u001b[0m\n\u001b[1;32m      5\u001b[0m     \u001b[0mtests\u001b[0m \u001b[0;34m=\u001b[0m \u001b[0mmovie\u001b[0m\u001b[0;34m.\u001b[0m\u001b[0mfind_elements\u001b[0m\u001b[0;34m(\u001b[0m\u001b[0mBy\u001b[0m\u001b[0;34m.\u001b[0m\u001b[0mTAG_NAME\u001b[0m\u001b[0;34m,\u001b[0m\u001b[0;34m\"img\"\u001b[0m\u001b[0;34m)\u001b[0m\u001b[0;34m\u001b[0m\u001b[0;34m\u001b[0m\u001b[0m\n\u001b[1;32m      6\u001b[0m     \u001b[0;32mfor\u001b[0m \u001b[0mtest\u001b[0m \u001b[0;32min\u001b[0m \u001b[0mtests\u001b[0m\u001b[0;34m:\u001b[0m\u001b[0;34m\u001b[0m\u001b[0;34m\u001b[0m\u001b[0m\n\u001b[0;32m----> 7\u001b[0;31m         \u001b[0mprint\u001b[0m\u001b[0;34m(\u001b[0m\u001b[0mtest\u001b[0m\u001b[0;34m[\u001b[0m\u001b[0;34m\"src\"\u001b[0m\u001b[0;34m]\u001b[0m\u001b[0;34m)\u001b[0m\u001b[0;34m\u001b[0m\u001b[0;34m\u001b[0m\u001b[0m\n\u001b[0m\u001b[1;32m      8\u001b[0m \u001b[0;31m#     print(title, test)\u001b[0m\u001b[0;34m\u001b[0m\u001b[0;34m\u001b[0m\u001b[0m\n\u001b[1;32m      9\u001b[0m \u001b[0;31m#     mylist.append(title)\u001b[0m\u001b[0;34m\u001b[0m\u001b[0;34m\u001b[0m\u001b[0m\n",
      "\u001b[0;31mTypeError\u001b[0m: 'WebElement' object is not subscriptable"
     ]
    }
   ],
   "source": [
    "movie_list = driver.find_elements(By.CLASS_NAME, \"movie\")\n",
    "mylist = []\n",
    "for movie in movie_list:\n",
    "    title = movie.text.strip()\n",
    "    tests = movie.find_elements(By.TAG_NAME,\"img\")\n",
    "    for test in tests:\n",
    "        print(test[\"src\"])\n",
    "#     print(title, test)\n",
    "#     mylist.append(title)\n",
    "#     mylist.append(test)\n",
    "#     mylist.append(each_list)\n",
    "# mylist"
   ]
  },
  {
   "cell_type": "code",
   "execution_count": 22,
   "id": "a0555ea1",
   "metadata": {},
   "outputs": [
    {
     "name": "stdout",
     "output_type": "stream",
     "text": [
      "Reading a page\n",
      "Reading a page\n",
      "Reading a page\n",
      "Reading a page\n",
      "Reading a page\n",
      "Reading a page\n",
      "Reading a page\n",
      "Reading a page\n",
      "Reading a page\n",
      "Reading a page\n",
      "Reading a page\n",
      "Reading a page\n",
      "Tried to click next, couldn't, we're done\n"
     ]
    }
   ],
   "source": [
    "# dataframes = []\n",
    "# while True:\n",
    "#     #time.sleep(1)\n",
    "#     print(\"Reading a page\")\n",
    "#     # The resultsTable isn't always there immediately\n",
    "    # I told some people to do time.sleep(1) but after\n",
    "    # a lot of pages that extra time adds up\n",
    "    # and it's very boring, alternatively you can\n",
    "    # wait for the table to show up\n",
    "    \n",
    "    # https://selenium-python.readthedocs.io/waits.html\n",
    "    # Wait for resultsTable to appear on the page\n",
    "    # If it takes longer than 3 seconds, just give up\n",
    "    # and give me an error\n",
    "    # might have to up that number if you have unrealiable internet\n",
    "#     WebDriverWait(driver, 3).until(\n",
    "#         EC.presence_of_element_located((By.CLASS_NAME, \"movie\"))\n",
    "#     )\n",
    "#     # Get a new dataframe\n",
    "    #table = driver.find_element(By.CLASS_NAME, \"movie\")\n",
    "   # df = pd.read_html(table.get_attribute('outerHTML'))[0]\n",
    "    \n",
    "    # Each time we pull a table off the page,\n",
    "    # add it to our list of dataframes\n",
    "    #dataframes.append(df)\n",
    "    \n",
    "    # Try to click the next button\n",
    "    try:\n",
    "        driver.find_element(By.XPATH, '/html/body/div[3]/div[201]/a[1]').click()\n",
    "    except:\n",
    "        print(\"Tried to click next, couldn't, we're done\")\n",
    "        # If it can't find it, exit the while loop\n",
    "        break"
   ]
  },
  {
   "cell_type": "code",
   "execution_count": null,
   "id": "677a35ca",
   "metadata": {},
   "outputs": [],
   "source": []
  }
 ],
 "metadata": {
  "kernelspec": {
   "display_name": "Python 3 (ipykernel)",
   "language": "python",
   "name": "python3"
  },
  "language_info": {
   "codemirror_mode": {
    "name": "ipython",
    "version": 3
   },
   "file_extension": ".py",
   "mimetype": "text/x-python",
   "name": "python",
   "nbconvert_exporter": "python",
   "pygments_lexer": "ipython3",
   "version": "3.10.0"
  }
 },
 "nbformat": 4,
 "nbformat_minor": 5
}
