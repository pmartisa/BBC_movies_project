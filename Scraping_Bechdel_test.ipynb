{
 "cells": [
  {
   "cell_type": "code",
   "execution_count": 1,
   "id": "167b47ce",
   "metadata": {},
   "outputs": [],
   "source": [
    "from bs4 import BeautifulSoup\n",
    "import requests\n",
    "import re\n",
    "import numpy as np\n",
    "import pandas as pd\n",
    "from time import sleep\n",
    "from random import randint"
   ]
  },
  {
   "cell_type": "markdown",
   "id": "7ebacce7",
   "metadata": {},
   "source": [
    "### As we are only interested in movies from the 21st Century we can exclude the first 4 pages"
   ]
  },
  {
   "cell_type": "code",
   "execution_count": 2,
   "id": "e5b8b6af",
   "metadata": {
    "scrolled": false
   },
   "outputs": [],
   "source": [
    "mylist = []\n",
    "pages = np.arange(4, 29, 1)\n",
    "for page in pages:\n",
    "    page = requests.get(\"https://bechdeltest.com/?page=\" + str(page))\n",
    "    sleep(randint(1,2))\n",
    "    soup = BeautifulSoup(page.text, 'html.parser')\n",
    "    movie_list = soup.find_all(class_=\"movie\")\n",
    "    for movie in movie_list:\n",
    "        title = movie.text.strip()\n",
    "        #test = movie(\"img\")[0][\"src\"]\n",
    "        test = re.findall(r\"\\w[/](\\w.*)[.]\", movie(\"img\")[0][\"src\"])\n",
    "        test_result = test[0]\n",
    "        headers = [title, test_result]\n",
    "        mylist.append(headers)"
   ]
  },
  {
   "cell_type": "markdown",
   "id": "a8f8600b",
   "metadata": {},
   "source": [
    "### We have 5,000 movies in total"
   ]
  },
  {
   "cell_type": "code",
   "execution_count": 4,
   "id": "59aa7f1e",
   "metadata": {},
   "outputs": [
    {
     "data": {
      "text/plain": [
       "5000"
      ]
     },
     "execution_count": 4,
     "metadata": {},
     "output_type": "execute_result"
    }
   ],
   "source": [
    "len(mylist)"
   ]
  },
  {
   "cell_type": "code",
   "execution_count": 3,
   "id": "f991ff08",
   "metadata": {},
   "outputs": [
    {
     "data": {
      "text/html": [
       "<div>\n",
       "<style scoped>\n",
       "    .dataframe tbody tr th:only-of-type {\n",
       "        vertical-align: middle;\n",
       "    }\n",
       "\n",
       "    .dataframe tbody tr th {\n",
       "        vertical-align: top;\n",
       "    }\n",
       "\n",
       "    .dataframe thead th {\n",
       "        text-align: right;\n",
       "    }\n",
       "</style>\n",
       "<table border=\"1\" class=\"dataframe\">\n",
       "  <thead>\n",
       "    <tr style=\"text-align: right;\">\n",
       "      <th></th>\n",
       "      <th>movie</th>\n",
       "      <th>Bechdel_test</th>\n",
       "    </tr>\n",
       "  </thead>\n",
       "  <tbody>\n",
       "    <tr>\n",
       "      <th>0</th>\n",
       "      <td>Death Race 2050</td>\n",
       "      <td>pass</td>\n",
       "    </tr>\n",
       "    <tr>\n",
       "      <th>1</th>\n",
       "      <td>Deidra &amp; Laney Rob a Train</td>\n",
       "      <td>pass</td>\n",
       "    </tr>\n",
       "    <tr>\n",
       "      <th>2</th>\n",
       "      <td>Descendants 2</td>\n",
       "      <td>pass</td>\n",
       "    </tr>\n",
       "    <tr>\n",
       "      <th>3</th>\n",
       "      <td>Despicable Me 3</td>\n",
       "      <td>pass</td>\n",
       "    </tr>\n",
       "    <tr>\n",
       "      <th>4</th>\n",
       "      <td>Detroit</td>\n",
       "      <td>nopass</td>\n",
       "    </tr>\n",
       "  </tbody>\n",
       "</table>\n",
       "</div>"
      ],
      "text/plain": [
       "                        movie Bechdel_test\n",
       "0             Death Race 2050         pass\n",
       "1  Deidra & Laney Rob a Train         pass\n",
       "2               Descendants 2         pass\n",
       "3             Despicable Me 3         pass\n",
       "4                     Detroit       nopass"
      ]
     },
     "execution_count": 3,
     "metadata": {},
     "output_type": "execute_result"
    }
   ],
   "source": [
    "col_names = ['movie', 'Bechdel_test']\n",
    "df = pd.DataFrame.from_records(mylist, columns=col_names)\n",
    "df.head()"
   ]
  },
  {
   "cell_type": "code",
   "execution_count": 4,
   "id": "a298baad",
   "metadata": {},
   "outputs": [],
   "source": [
    "df.to_csv('mylist_backup.csv', index=False)"
   ]
  },
  {
   "cell_type": "code",
   "execution_count": null,
   "id": "ac086bcf",
   "metadata": {},
   "outputs": [],
   "source": []
  }
 ],
 "metadata": {
  "kernelspec": {
   "display_name": "Python 3 (ipykernel)",
   "language": "python",
   "name": "python3"
  },
  "language_info": {
   "codemirror_mode": {
    "name": "ipython",
    "version": 3
   },
   "file_extension": ".py",
   "mimetype": "text/x-python",
   "name": "python",
   "nbconvert_exporter": "python",
   "pygments_lexer": "ipython3",
   "version": "3.10.0"
  }
 },
 "nbformat": 4,
 "nbformat_minor": 5
}
