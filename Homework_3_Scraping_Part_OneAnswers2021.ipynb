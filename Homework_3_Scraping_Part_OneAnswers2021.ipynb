{
 "cells": [
  {
   "cell_type": "markdown",
   "metadata": {},
   "source": [
    "## Homework 3: Scraping Part One\n",
    "This homework asks you to scrape the dialogue from one act in Shakespeare, please follow the instructions and do the best you can. With the exception of the first cell that imports the request and the beautiful soup library, I have not pre-written any code for you. Do not be afraid--you may look at the tutorial for examples, as well as the Beautiful Soup documentation, and any other Python resource (such a Stack overflow) if need be. \n",
    "\n",
    "This homework is intended to be challenging, if you only get 70% of the stuff done that's great!"
   ]
  },
  {
   "cell_type": "code",
   "execution_count": null,
   "metadata": {},
   "outputs": [],
   "source": [
    "import requests\n",
    "from bs4 import BeautifulSoup"
   ]
  },
  {
   "cell_type": "markdown",
   "metadata": {},
   "source": [
    "## Shakespeare \n",
    "I've posted some relatively simple HTML of the first act of William Shakespeare's The Tempest here: http://floatingmedia.com/columbia/tempest.html please use that URL to download the HTML and put it through Beautiful Soup. (It also may be very helpful for you to go to that page in chrome and inspect elements why you do this.) \n",
    "**Please note: there are 2 scenes in Act 1**\n",
    "\n"
   ]
  },
  {
   "cell_type": "markdown",
   "metadata": {},
   "source": [
    "In the cells below you should you make two lines--a variable that requests and reads the HTML from the URL (http://floatingmedia.com/columbia/tempest.html), and a second variable that passes the raw HTML into Beautiful Soup. You will use that beautiful soup variable to search the HTML."
   ]
  },
  {
   "cell_type": "code",
   "execution_count": null,
   "metadata": {},
   "outputs": [],
   "source": [
    "my_url = \"http://floatingmedia.com/columbia/tempest.html\"\n",
    "raw_html = requests.get(my_url).content"
   ]
  },
  {
   "cell_type": "code",
   "execution_count": null,
   "metadata": {},
   "outputs": [],
   "source": [
    "soup_doc = BeautifulSoup(raw_html, \"html.parser\")\n",
    "print(soup_doc.prettify())"
   ]
  },
  {
   "cell_type": "markdown",
   "metadata": {},
   "source": [
    "Get the title of the play:\n",
    "\n"
   ]
  },
  {
   "cell_type": "code",
   "execution_count": null,
   "metadata": {},
   "outputs": [],
   "source": [
    "soup_doc.title.string\n",
    "soup_doc.find('title').string\n",
    "soup_doc.find_all('title')[0].string\n",
    "\n"
   ]
  },
  {
   "cell_type": "markdown",
   "metadata": {},
   "source": [
    "Get the HTML that contains the setting of Act One Scene 1:"
   ]
  },
  {
   "cell_type": "code",
   "execution_count": null,
   "metadata": {},
   "outputs": [],
   "source": [
    "print(soup_doc.find_all('p')[1].string)\n",
    "#soup_doc.strong\n",
    "# anything close to this is fine"
   ]
  },
  {
   "cell_type": "raw",
   "metadata": {},
   "source": [
    "Get the setting of Act One Scene 1 (without HTML tags):"
   ]
  },
  {
   "cell_type": "code",
   "execution_count": null,
   "metadata": {},
   "outputs": [],
   "source": [
    "soup_doc.find_all('p')[1].string\n",
    "soup_doc.strong.text"
   ]
  },
  {
   "cell_type": "markdown",
   "metadata": {},
   "source": [
    "Get the setting of scene 2"
   ]
  },
  {
   "cell_type": "code",
   "execution_count": null,
   "metadata": {},
   "outputs": [],
   "source": [
    "soup_doc.find_all('div')[2].strong.string\n",
    "#Again, there are 400,000 ways to do this.\n",
    "#Ok, maybe not that many...\n",
    "stage2 = soup_doc.find_all('div')[2].find_all(class_ = \"stagedir\")[0]\n",
    "#.string.strip()\n",
    "stage2"
   ]
  },
  {
   "cell_type": "markdown",
   "metadata": {},
   "source": [
    "Get the name of the first character in Scene 1"
   ]
  },
  {
   "cell_type": "code",
   "execution_count": null,
   "metadata": {},
   "outputs": [],
   "source": [
    "soup_doc.find_all('div')[1].strong.string\n",
    "#or\n",
    "soup_doc.ul.strong.string\n",
    "#or other ways\n"
   ]
  },
  {
   "cell_type": "markdown",
   "metadata": {},
   "source": [
    "Get a \"list\" of all of characters in Scene 1 (repeats are fine, you need a loop here)"
   ]
  },
  {
   "cell_type": "code",
   "execution_count": null,
   "metadata": {},
   "outputs": [],
   "source": [
    "characters = soup_doc.find_all('div')[1].find_all('strong')\n",
    "mylist = []\n",
    "for charName in characters:\n",
    "    mylist.append(charName.string)\n",
    "mylist\n"
   ]
  },
  {
   "cell_type": "markdown",
   "metadata": {},
   "source": [
    "**Bonus:** write a script that takes all the duplicates out of the list. (This is a python thing, not a beautiful soup thing.)"
   ]
  },
  {
   "cell_type": "code",
   "execution_count": null,
   "metadata": {},
   "outputs": [],
   "source": [
    "#Lots of ways to do this!!\n",
    "#The sneaky terse way using set()\n",
    "noDups = list(set(mylist))\n",
    "noDups\n",
    "\n",
    "#loopy way (I like loops)\n",
    "# noDups = []\n",
    "# for name in mylist:\n",
    "#     if name not in noDups:\n",
    "#         noDups.append(name)\n",
    "# noDups"
   ]
  },
  {
   "cell_type": "markdown",
   "metadata": {},
   "source": [
    "Display every stage direction in _scene 2_"
   ]
  },
  {
   "cell_type": "code",
   "execution_count": null,
   "metadata": {},
   "outputs": [],
   "source": [
    "#totally acceptable but not complete\n",
    "# scene2 = soup_doc.find_all('div')[3]\n",
    "# staged = scene2.find_all(class_=\"stagedir\")\n",
    "# for direction in staged:\n",
    "#     print(direction.string)\n",
    "\n",
    "\n",
    "##Best answer, but crazy advanced!!!\n",
    "##that ['p','i'] allows you to put in a list of elements to extract.\n",
    "##I want to extract more than one element it is very useful!\n",
    "scene2 = soup_doc.find_all('div')[3]\n",
    "staged = scene2.find_all(['p','i'])\n",
    "for direction in staged:\n",
    "    print(direction.text)"
   ]
  },
  {
   "cell_type": "markdown",
   "metadata": {},
   "source": [
    "Get the HTML containing Miranda's first speech in Scene 2"
   ]
  },
  {
   "cell_type": "code",
   "execution_count": null,
   "metadata": {},
   "outputs": [],
   "source": [
    "scene2 = soup_doc.find_all('div')[3]\n",
    "scene2.li"
   ]
  },
  {
   "cell_type": "markdown",
   "metadata": {},
   "source": [
    "Now display those **same lines without the speaker's name, and no HTML.**\n",
    "\n",
    "This is a bit tricky, try to get as close to this result as you can. (Note: I didn't get the numbers out of there, but it's fine if you want to get them out too):\n",
    "\n",
    "`If by your art, my dearest father, you have\n",
    " \n",
    "85\n",
    "Put the wild waters in this roar, allay them.\n",
    "\n",
    "The sky, it seems, would pour down stinking pitch,\n",
    "\n",
    "But that the sea, mounting to the welkin's cheek,\n",
    "\n",
    "Dashes the fire out. O, I have suffered\n",
    "\n",
    "With those that I saw suffer: a brave vessel,\n",
    " \n",
    "90\n",
    "Who had, no doubt, some noble creature in her,\n",
    "\n",
    "Dash'd all to pieces. O, the cry did knock\n",
    "\n",
    "Against my very heart. Poor souls, they perish'd.\n",
    "\n",
    "Had I been any god of power, I would\n",
    "\n",
    "Have sunk the sea within the earth or ere\n",
    " \n",
    "95\n",
    "It should the good ship so have swallow'd and\n",
    "\n",
    "The fraughting souls within her.`"
   ]
  },
  {
   "cell_type": "code",
   "execution_count": null,
   "metadata": {},
   "outputs": [],
   "source": [
    "##Simple way to pull out the strings,\n",
    "#youthen start the loop at the [1] element to get rid of 'Miranda'\n",
    "mspeech = scene2.ul.li\n",
    "the_speech = mspeech.find_all(string=True)\n",
    "for line in the_speech[1:]:\n",
    "    print(line)"
   ]
  },
  {
   "cell_type": "code",
   "execution_count": null,
   "metadata": {},
   "outputs": [],
   "source": [
    "#Most magical version!\n",
    "miranda = soup_doc.find_all('div')[3].li\n",
    "miranda.strong.find_next_siblings(string=True)"
   ]
  },
  {
   "cell_type": "code",
   "execution_count": null,
   "metadata": {},
   "outputs": [],
   "source": [
    "##This gets out the first line and the rest separately.\n",
    "## a less exciting version of the one above\n",
    "first_line = scene2.ul.strong.next_sibling\n",
    "the_rest = scene2.ul.span.find_next_siblings(string=True)\n",
    "##Insert the first line into the list\n",
    "the_rest.insert(0,first_line)\n",
    "the_rest\n"
   ]
  },
  {
   "cell_type": "code",
   "execution_count": null,
   "metadata": {},
   "outputs": [],
   "source": [
    "#This uses <br> Tags\n",
    "#But still has to get out the first line separately. (Cheat!)\n",
    "miranda = scene2.find_all(class_ = 'playtext')[0]\n",
    "print(miranda.find('span').previous)\n",
    "for line in miranda.find_all('br'):\n",
    "         print(line.next)\n",
    "miranda"
   ]
  },
  {
   "cell_type": "code",
   "execution_count": null,
   "metadata": {},
   "outputs": [],
   "source": [
    "#This uses beautiful soup's generator option\n",
    "#And captures the results in a list.\n",
    "myspeech = []\n",
    "for element in scene2.li.strong.next_siblings:\n",
    "    myspeech.append(element)\n",
    "myspeech\n",
    "\n",
    "#You can also transform the generator into a list\n",
    "#myspeech = list(scene2.li.strong.next_siblings)\n",
    "#Please don't worry about generators at this point in your career!!!\n"
   ]
  },
  {
   "cell_type": "code",
   "execution_count": null,
   "metadata": {},
   "outputs": [],
   "source": [
    "#This strips to text with a delimiter\n",
    "#And then uses split to turn it into a list.\n",
    "mspeech = scene2.li\n",
    "mspeech = scene2.li.get_text('|||')\n",
    "#mspeech = mspeech.split('|||')\n",
    "mspeech\n",
    "\n"
   ]
  },
  {
   "cell_type": "code",
   "execution_count": null,
   "metadata": {},
   "outputs": [],
   "source": [
    "#This just deletes the first element in the list\n",
    "mspeech = scene2.li.find_all(string=True)\n",
    "del mspeech[0]\n",
    "for line in mspeech:\n",
    "    print(line)"
   ]
  },
  {
   "cell_type": "markdown",
   "metadata": {},
   "source": [
    "Get the HTML containing the speech after Miranda's"
   ]
  },
  {
   "cell_type": "code",
   "execution_count": null,
   "metadata": {},
   "outputs": [],
   "source": [
    "scene2 = soup_doc.find_all('div')[3]\n",
    "scene2.find_all('li')[1]"
   ]
  },
  {
   "cell_type": "markdown",
   "metadata": {
    "collapsed": true
   },
   "source": [
    "All done!"
   ]
  }
 ],
 "metadata": {
  "kernelspec": {
   "display_name": "Python 3 (ipykernel)",
   "language": "python",
   "name": "python3"
  },
  "language_info": {
   "codemirror_mode": {
    "name": "ipython",
    "version": 3
   },
   "file_extension": ".py",
   "mimetype": "text/x-python",
   "name": "python",
   "nbconvert_exporter": "python",
   "pygments_lexer": "ipython3",
   "version": "3.10.0"
  }
 },
 "nbformat": 4,
 "nbformat_minor": 2
}
